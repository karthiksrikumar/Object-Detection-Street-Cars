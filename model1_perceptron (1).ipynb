{
  "nbformat": 4,
  "nbformat_minor": 0,
  "metadata": {
    "colab": {
      "provenance": [],
      "gpuType": "T4"
    },
    "kernelspec": {
      "name": "python3",
      "display_name": "Python 3"
    },
    "accelerator": "GPU"
  },
  "cells": [
    {
      "cell_type": "markdown",
      "metadata": {
        "id": "TiM6gYg0nhkY"
      },
      "source": [
        "<font color=\"#1e90ff\"><h1><b>Notebook 1</b></h1></font>"
      ]
    },
    {
      "cell_type": "code",
      "metadata": {
        "id": "847Nj57ZekeU",
        "outputId": "3a698350-570c-4ec2-db40-58d3595fb4dd",
        "colab": {
          "base_uri": "https://localhost:8080/"
        }
      },
      "source": [
        "import os\n",
        "import pandas as pd\n",
        "import seaborn as sns\n",
        "import numpy as np\n",
        "import matplotlib.pyplot as plt\n",
        "import tensorflow as tf\n",
        "from tensorflow.keras.datasets import cifar10\n",
        "\n",
        "print(\"TensorFlow version: {}\".format(tf.__version__))\n",
        "\n",
        "# Load data\n",
        "def load_cifar10():\n",
        "  (X_train_cifar, y_train_cifar), (X_test_cifar, y_test_cifar) = cifar10.load_data()\n",
        "  y_train_cifar = y_train_cifar.squeeze()\n",
        "  y_test_cifar = y_test_cifar.squeeze()\n",
        "  return (X_train_cifar, y_train_cifar), (X_test_cifar, y_test_cifar)\n",
        "\n",
        "# CIFAR100 classes\n",
        "idx_to_class = ['background', 'car', 'truck']\n",
        "\n",
        "# Construct vehicle dataset from CIFAR10\n",
        "def construct_vehicle_dataset(data, labels, images_per_class, label_car=1, label_truck=9):\n",
        "  mask_car = labels == label_car\n",
        "  mask_truck = labels == label_truck\n",
        "\n",
        "  mask_vehicles = mask_car | mask_truck\n",
        "  mask_background = np.invert(mask_vehicles)\n",
        "\n",
        "  data_car = data[mask_car]\n",
        "  data_truck = data[mask_truck]\n",
        "  data_background = data[mask_background][:images_per_class]\n",
        "\n",
        "  new_data = np.vstack((data_background, data_car, data_truck))\n",
        "  new_labels = np.repeat(np.array([0, 1, 2]), images_per_class, axis=0)\n",
        "\n",
        "  return new_data, new_labels\n",
        "\n",
        "def load_vehicle_dataset():\n",
        "  (X_train_cifar, y_train_cifar), (X_test_cifar, y_test_cifar) = load_cifar10()\n",
        "  X_train, y_train = construct_vehicle_dataset(X_train_cifar, y_train_cifar, 5000)\n",
        "  X_test, y_test = construct_vehicle_dataset(X_test_cifar, y_test_cifar, 1000)\n",
        "  return (X_train, y_train), (X_test, y_test)\n",
        "\n",
        "# Helper functions\n",
        "\n",
        "# plotting\n",
        "def plot_one_image(data, labels = [], index = None, image_shape = None):\n",
        "  '''\n",
        "  if data is a single image, display that image\n",
        "\n",
        "  if data is a 4d stack of images, display that image\n",
        "  '''\n",
        "  ### cv2.imshow('image', data)\n",
        "  num_dims   = len(data.shape)\n",
        "  num_labels = len(labels)\n",
        "  if image_shape is not None:\n",
        "    target_shape = image_shape\n",
        "  else:\n",
        "    target_shape = (32, 32, 3)\n",
        "  # reshape data if necessary\n",
        "  if num_dims == 1:\n",
        "    data = data.reshape(target_shape)\n",
        "  if num_dims == 2:\n",
        "    data = data.reshape(np.vstack[-1, image_shape])\n",
        "  num_dims   = len(data.shape)\n",
        "\n",
        "  # check if single or multiple images\n",
        "  if num_dims == 3:\n",
        "    if num_labels > 1:\n",
        "      print('Multiple labels does not make sense for single image.')\n",
        "      return\n",
        "\n",
        "    label = labels\n",
        "    if num_labels == 0:\n",
        "      label = ''\n",
        "    image = data\n",
        "\n",
        "  if num_dims == 4:\n",
        "    if index is not None:\n",
        "      image = data[index, :]\n",
        "      label = labels[index]\n",
        "\n",
        "    else:\n",
        "      print(\"Images were provided as a list, but the index variable was left blank\")\n",
        "\n",
        "  # plot image of interest\n",
        "  print('Label: %s'%label)\n",
        "  plt.imshow(image)\n",
        "  plt.show()\n",
        "\n",
        "def model_to_string(model):\n",
        "  import re\n",
        "  stringlist = []\n",
        "  model.summary(print_fn=lambda x: stringlist.append(x))\n",
        "  sms = \"\\n\".join(stringlist)\n",
        "  sms = re.sub('_\\d\\d\\d','', sms)\n",
        "  sms = re.sub('_\\d\\d','', sms)\n",
        "  sms = re.sub('_\\d','', sms)\n",
        "  return sms\n",
        "\n",
        "def normalize(data):\n",
        "  # CIFAR100 mean (0.4914, 0.4822, 0.4465) std (0.2023, 0.1994, 0.2010)\n",
        "  return (data/255-np.array((0.4914, 0.4822, 0.4465))) / np.array((0.2023, 0.1994, 0.2010))\n",
        "\n",
        "def label_to_onehot(labels):\n",
        "  final_labels = np.zeros((len(labels), 3))\n",
        "  for i in range(len(labels)):\n",
        "    label = labels[i]\n",
        "    if label == 0:\n",
        "      final_labels[i,:] = np.array([1, 0, 0])\n",
        "    if label == 1:\n",
        "      final_labels[i,:] = np.array([0, 1, 0])\n",
        "    if label == 2:\n",
        "      final_labels[i,:] = np.array([0, 0, 1])\n",
        "  return final_labels\n",
        "\n",
        "def plot_acc(history, ax = None, xlabel = 'Epoch #'):\n",
        "  # i'm sorry for this function's code. i am so sorry.\n",
        "  history = history.history\n",
        "  history.update({'epoch':list(range(len(history['val_accuracy'])))})\n",
        "  history = pd.DataFrame.from_dict(history)\n",
        "\n",
        "  best_epoch = history.sort_values(by = 'val_accuracy', ascending = False).iloc[0]['epoch']\n",
        "\n",
        "  if not ax:\n",
        "    f, ax = plt.subplots(1,1)\n",
        "  sns.lineplot(x = 'epoch', y = 'val_accuracy', data = history, label = 'Validation', ax = ax)\n",
        "  sns.lineplot(x = 'epoch', y = 'accuracy', data = history, label = 'Training', ax = ax)\n",
        "  ax.axhline(0.333, linestyle = '--',color='red', label = 'Chance')\n",
        "  ax.axvline(x = best_epoch, linestyle = '--', color = 'green', label = 'Best Epoch')\n",
        "  ax.legend(loc = 1)\n",
        "  ax.set_ylim([0.01, 1])\n",
        "\n",
        "  ax.set_xlabel(xlabel)\n",
        "  ax.set_ylabel('Accuracy (Fraction)')\n",
        "\n",
        "  plt.show()\n",
        "\n"
      ],
      "execution_count": 1,
      "outputs": [
        {
          "output_type": "stream",
          "name": "stdout",
          "text": [
            "TensorFlow version: 2.17.0\n"
          ]
        }
      ]
    },
    {
      "cell_type": "markdown",
      "metadata": {
        "id": "5Lb-mORcVaMI"
      },
      "source": [
        "# Understanding our data"
      ]
    },
    {
      "cell_type": "code",
      "metadata": {
        "id": "0qP5mLh7U00D",
        "outputId": "541e9310-c4cf-4e49-b508-82aa35b4963b",
        "colab": {
          "base_uri": "https://localhost:8080/"
        }
      },
      "source": [
        "(X_train, y_train), (X_test, y_test) = load_vehicle_dataset()"
      ],
      "execution_count": 2,
      "outputs": [
        {
          "output_type": "stream",
          "name": "stdout",
          "text": [
            "Downloading data from https://www.cs.toronto.edu/~kriz/cifar-10-python.tar.gz\n",
            "\u001b[1m170498071/170498071\u001b[0m \u001b[32m━━━━━━━━━━━━━━━━━━━━\u001b[0m\u001b[37m\u001b[0m \u001b[1m5s\u001b[0m 0us/step\n"
          ]
        }
      ]
    },
    {
      "cell_type": "code",
      "metadata": {
        "id": "m5dlllnKEi96",
        "outputId": "08aff062-aa22-4f97-a97b-885de7beeaa8",
        "colab": {
          "base_uri": "https://localhost:8080/"
        }
      },
      "source": [
        "print('Our labels are stored as %s in Python' % type(y_train))\n",
        "print('The label vector of the training set has dimensions of (%d, )' % y_train.shape)\n",
        "print('The label vector of the test set has dimensions of (%d, )' % y_test.shape)"
      ],
      "execution_count": 3,
      "outputs": [
        {
          "output_type": "stream",
          "name": "stdout",
          "text": [
            "Our labels are stored as <class 'numpy.ndarray'> in Python\n",
            "The label vector of the training set has dimensions of (15000, )\n",
            "The label vector of the test set has dimensions of (3000, )\n"
          ]
        }
      ]
    },
    {
      "cell_type": "code",
      "metadata": {
        "id": "BRjV7wFFCCzW",
        "outputId": "746110e1-5189-44ee-8565-342b0af74eb3",
        "colab": {
          "base_uri": "https://localhost:8080/"
        }
      },
      "source": [
        "for i, class_name in enumerate(idx_to_class):\n",
        "  print('{} - {}'.format(i, class_name))\n"
      ],
      "execution_count": 4,
      "outputs": [
        {
          "output_type": "stream",
          "name": "stdout",
          "text": [
            "0 - background\n",
            "1 - car\n",
            "2 - truck\n"
          ]
        }
      ]
    },
    {
      "cell_type": "code",
      "metadata": {
        "id": "8QnWHY668EVF",
        "outputId": "ef11e5b6-92b6-4317-8fb8-29563e513600",
        "colab": {
          "base_uri": "https://localhost:8080/"
        }
      },
      "source": [
        "\n",
        "import collections\n",
        "\n",
        "### YOUR CODE HERE\n",
        "counter_train = collections.Counter(y_train)\n",
        "print(counter_train)\n",
        "counter_test = collections.Counter(y_test)\n",
        "print(counter_test)\n",
        "### END CODE"
      ],
      "execution_count": 5,
      "outputs": [
        {
          "output_type": "stream",
          "name": "stdout",
          "text": [
            "Counter({0: 5000, 1: 5000, 2: 5000})\n",
            "Counter({0: 1000, 1: 1000, 2: 1000})\n"
          ]
        }
      ]
    },
    {
      "cell_type": "markdown",
      "metadata": {
        "id": "9uA4zJPqF1oC"
      },
      "source": [
        "Next, let's take a look at the images in the dataset."
      ]
    },
    {
      "cell_type": "code",
      "metadata": {
        "id": "Bf9lPZ8MH4Si",
        "outputId": "52a9a8e5-3fe0-4c6a-d8bc-9e3961e64b23",
        "colab": {
          "base_uri": "https://localhost:8080/"
        }
      },
      "source": [
        "print(X_train.shape)\n",
        "print(X_test.shape)\n"
      ],
      "execution_count": 6,
      "outputs": [
        {
          "output_type": "stream",
          "name": "stdout",
          "text": [
            "(15000, 32, 32, 3)\n",
            "(3000, 32, 32, 3)\n"
          ]
        }
      ]
    },
    {
      "cell_type": "code",
      "metadata": {
        "id": "_tH-W_XCFwbC",
        "outputId": "4a4e2780-86bf-4a59-d834-3393913df89e",
        "colab": {
          "base_uri": "https://localhost:8080/",
          "height": 448
        }
      },
      "source": [
        "\n",
        "# 0-4999 Background, 5000-9999 car, 10000-15000 truck\n",
        "\n",
        "image = X_train[10000]\n",
        "label = [idx_to_class[y_train[10000]]]\n",
        "plot_one_image(image, labels=label)\n"
      ],
      "execution_count": 8,
      "outputs": [
        {
          "output_type": "stream",
          "name": "stdout",
          "text": [
            "Label: ['truck']\n"
          ]
        },
        {
          "output_type": "display_data",
          "data": {
            "text/plain": [
              "<Figure size 640x480 with 1 Axes>"
            ],
            "image/png": "[encoded data removed]"
          },
          "metadata": {}
        }
      ]
    },
    {
      "cell_type": "markdown",
      "metadata": {
        "id": "3AJzmg0drIYP"
      },
      "source": [
        "# Understanding and Building Neural Networks (Perceptron)"
      ]
    },
    {
      "cell_type": "code",
      "metadata": {
        "id": "d4rDgysgFtsC"
      },
      "source": [
        "# grab tools from our tensorflow and keras toolboxes\n",
        "import tensorflow as tf\n",
        "from tensorflow.keras.models import Sequential\n",
        "from tensorflow.keras.layers import Activation, Dropout, Flatten, Dense\n",
        "from tensorflow.keras import optimizers"
      ],
      "execution_count": 14,
      "outputs": []
    },
    {
      "cell_type": "code",
      "metadata": {
        "id": "xlVFP9lhJed-"
      },
      "source": [
        "\n",
        "model_1 = Sequential()\n",
        "model_1.add(Dense(4, input_shape = (3,), activation = 'relu'))\n",
        "model_1.add(Dense(2, activation = 'softmax'))\n",
        "model_1.compile(loss='categorical_crossentropy',\n",
        "                optimizer = 'adam',\n",
        "                metrics = ['accuracy'])\n"
      ],
      "execution_count": 13,
      "outputs": []
    },
    {
      "cell_type": "markdown",
      "metadata": {
        "id": "tyLV1oHjT62K"
      },
      "source": [
        "# Applying Neural Networks to Recognizing Vehicles\n"
      ]
    },
    {
      "cell_type": "code",
      "metadata": {
        "id": "6Ea97XLsKG0G",
        "colab": {
          "base_uri": "https://localhost:8080/"
        },
        "outputId": "571e1d1a-d85a-47f7-ab5a-124bc05c51e1"
      },
      "source": [
        "\n",
        "### YOUR CODE HERE\n",
        "perceptron = Sequential()\n",
        "perceptron.add(Flatten(input_shape = (32, 32, 3)))\n",
        "perceptron.add(Dense(units = 128, activation = 'relu'))\n",
        "perceptron.add(Dense(units = 3, activation = 'softmax'))\n",
        "\n",
        "perceptron.compile(loss='categorical_crossentropy',\n",
        "                   optimizer=optimizers.SGD(learning_rate=1e-3, momentum=0.9),\n",
        "                   metrics=['accuracy'])\n",
        "### END CODE"
      ],
      "execution_count": 16,
      "outputs": [
        {
          "output_type": "stream",
          "name": "stderr",
          "text": [
            "/usr/local/lib/python3.10/dist-packages/keras/src/layers/reshaping/flatten.py:37: UserWarning: Do not pass an `input_shape`/`input_dim` argument to a layer. When using Sequential models, prefer using an `Input(shape)` object as the first layer in the model instead.\n",
            "  super().__init__(**kwargs)\n"
          ]
        }
      ]
    },
    {
      "cell_type": "code",
      "metadata": {
        "id": "-tjgTdXv6Kh7"
      },
      "source": [
        "from tensorflow.keras.callbacks import ModelCheckpoint"
      ],
      "execution_count": 17,
      "outputs": []
    },
    {
      "cell_type": "code",
      "metadata": {
        "id": "N6xj5HNe42XO",
        "outputId": "93895110-f6fb-4733-db68-921d9033f8b1",
        "colab": {
          "base_uri": "https://localhost:8080/"
        }
      },
      "source": [
        "\n",
        "monitor = ModelCheckpoint('./model.h5.keras', monitor='val_loss', verbose=0, save_best_only=True, save_weights_only=False, mode='auto', save_freq='epoch')\n",
        "\n",
        "X_train_norm = normalize(X_train)\n",
        "X_test_norm = normalize(X_test)\n",
        "\n",
        "y_train_onehot = label_to_onehot(y_train)\n",
        "y_test_onehot = label_to_onehot(y_test)\n",
        "\n",
        "history = perceptron.fit(X_train_norm, y_train_onehot, epochs=20, validation_data=(X_test_norm, y_test_onehot), shuffle=True, callbacks=[monitor])\n"
      ],
      "execution_count": 22,
      "outputs": [
        {
          "output_type": "stream",
          "name": "stdout",
          "text": [
            "Epoch 1/20\n",
            "\u001b[1m469/469\u001b[0m \u001b[32m━━━━━━━━━━━━━━━━━━━━\u001b[0m\u001b[37m\u001b[0m \u001b[1m4s\u001b[0m 5ms/step - accuracy: 0.5827 - loss: 1.0427 - val_accuracy: 0.6627 - val_loss: 0.7577\n",
            "Epoch 2/20\n",
            "\u001b[1m469/469\u001b[0m \u001b[32m━━━━━━━━━━━━━━━━━━━━\u001b[0m\u001b[37m\u001b[0m \u001b[1m1s\u001b[0m 3ms/step - accuracy: 0.7190 - loss: 0.6815 - val_accuracy: 0.6840 - val_loss: 0.7656\n",
            "Epoch 3/20\n",
            "\u001b[1m469/469\u001b[0m \u001b[32m━━━━━━━━━━━━━━━━━━━━\u001b[0m\u001b[37m\u001b[0m \u001b[1m2s\u001b[0m 2ms/step - accuracy: 0.7545 - loss: 0.6143 - val_accuracy: 0.7127 - val_loss: 0.6926\n",
            "Epoch 4/20\n",
            "\u001b[1m469/469\u001b[0m \u001b[32m━━━━━━━━━━━━━━━━━━━━\u001b[0m\u001b[37m\u001b[0m \u001b[1m1s\u001b[0m 2ms/step - accuracy: 0.7850 - loss: 0.5474 - val_accuracy: 0.7127 - val_loss: 0.6819\n",
            "Epoch 5/20\n",
            "\u001b[1m469/469\u001b[0m \u001b[32m━━━━━━━━━━━━━━━━━━━━\u001b[0m\u001b[37m\u001b[0m \u001b[1m1s\u001b[0m 2ms/step - accuracy: 0.7993 - loss: 0.5099 - val_accuracy: 0.7310 - val_loss: 0.6689\n",
            "Epoch 6/20\n",
            "\u001b[1m469/469\u001b[0m \u001b[32m━━━━━━━━━━━━━━━━━━━━\u001b[0m\u001b[37m\u001b[0m \u001b[1m1s\u001b[0m 3ms/step - accuracy: 0.8190 - loss: 0.4700 - val_accuracy: 0.7073 - val_loss: 0.7003\n",
            "Epoch 7/20\n",
            "\u001b[1m469/469\u001b[0m \u001b[32m━━━━━━━━━━━━━━━━━━━━\u001b[0m\u001b[37m\u001b[0m \u001b[1m1s\u001b[0m 3ms/step - accuracy: 0.8298 - loss: 0.4389 - val_accuracy: 0.7180 - val_loss: 0.7030\n",
            "Epoch 8/20\n",
            "\u001b[1m469/469\u001b[0m \u001b[32m━━━━━━━━━━━━━━━━━━━━\u001b[0m\u001b[37m\u001b[0m \u001b[1m2s\u001b[0m 2ms/step - accuracy: 0.8485 - loss: 0.4060 - val_accuracy: 0.7217 - val_loss: 0.7161\n",
            "Epoch 9/20\n",
            "\u001b[1m469/469\u001b[0m \u001b[32m━━━━━━━━━━━━━━━━━━━━\u001b[0m\u001b[37m\u001b[0m \u001b[1m1s\u001b[0m 2ms/step - accuracy: 0.8624 - loss: 0.3707 - val_accuracy: 0.7317 - val_loss: 0.7039\n",
            "Epoch 10/20\n",
            "\u001b[1m469/469\u001b[0m \u001b[32m━━━━━━━━━━━━━━━━━━━━\u001b[0m\u001b[37m\u001b[0m \u001b[1m1s\u001b[0m 2ms/step - accuracy: 0.8723 - loss: 0.3458 - val_accuracy: 0.7227 - val_loss: 0.7480\n",
            "Epoch 11/20\n",
            "\u001b[1m469/469\u001b[0m \u001b[32m━━━━━━━━━━━━━━━━━━━━\u001b[0m\u001b[37m\u001b[0m \u001b[1m2s\u001b[0m 3ms/step - accuracy: 0.8910 - loss: 0.3182 - val_accuracy: 0.7310 - val_loss: 0.7273\n",
            "Epoch 12/20\n",
            "\u001b[1m469/469\u001b[0m \u001b[32m━━━━━━━━━━━━━━━━━━━━\u001b[0m\u001b[37m\u001b[0m \u001b[1m2s\u001b[0m 2ms/step - accuracy: 0.8983 - loss: 0.2912 - val_accuracy: 0.7273 - val_loss: 0.7638\n",
            "Epoch 13/20\n",
            "\u001b[1m469/469\u001b[0m \u001b[32m━━━━━━━━━━━━━━━━━━━━\u001b[0m\u001b[37m\u001b[0m \u001b[1m1s\u001b[0m 2ms/step - accuracy: 0.9103 - loss: 0.2585 - val_accuracy: 0.7013 - val_loss: 0.8387\n",
            "Epoch 14/20\n",
            "\u001b[1m469/469\u001b[0m \u001b[32m━━━━━━━━━━━━━━━━━━━━\u001b[0m\u001b[37m\u001b[0m \u001b[1m2s\u001b[0m 3ms/step - accuracy: 0.9199 - loss: 0.2360 - val_accuracy: 0.7137 - val_loss: 0.8072\n",
            "Epoch 15/20\n",
            "\u001b[1m469/469\u001b[0m \u001b[32m━━━━━━━━━━━━━━━━━━━━\u001b[0m\u001b[37m\u001b[0m \u001b[1m2s\u001b[0m 3ms/step - accuracy: 0.9287 - loss: 0.2205 - val_accuracy: 0.7203 - val_loss: 0.8359\n",
            "Epoch 16/20\n",
            "\u001b[1m469/469\u001b[0m \u001b[32m━━━━━━━━━━━━━━━━━━━━\u001b[0m\u001b[37m\u001b[0m \u001b[1m2s\u001b[0m 2ms/step - accuracy: 0.9365 - loss: 0.2001 - val_accuracy: 0.7203 - val_loss: 0.8671\n",
            "Epoch 17/20\n",
            "\u001b[1m469/469\u001b[0m \u001b[32m━━━━━━━━━━━━━━━━━━━━\u001b[0m\u001b[37m\u001b[0m \u001b[1m1s\u001b[0m 2ms/step - accuracy: 0.9423 - loss: 0.1837 - val_accuracy: 0.7163 - val_loss: 0.9027\n",
            "Epoch 18/20\n",
            "\u001b[1m469/469\u001b[0m \u001b[32m━━━━━━━━━━━━━━━━━━━━\u001b[0m\u001b[37m\u001b[0m \u001b[1m1s\u001b[0m 2ms/step - accuracy: 0.9512 - loss: 0.1569 - val_accuracy: 0.7123 - val_loss: 0.9106\n",
            "Epoch 19/20\n",
            "\u001b[1m469/469\u001b[0m \u001b[32m━━━━━━━━━━━━━━━━━━━━\u001b[0m\u001b[37m\u001b[0m \u001b[1m3s\u001b[0m 5ms/step - accuracy: 0.9574 - loss: 0.1425 - val_accuracy: 0.7193 - val_loss: 0.9180\n",
            "Epoch 20/20\n",
            "\u001b[1m469/469\u001b[0m \u001b[32m━━━━━━━━━━━━━━━━━━━━\u001b[0m\u001b[37m\u001b[0m \u001b[1m3s\u001b[0m 2ms/step - accuracy: 0.9584 - loss: 0.1330 - val_accuracy: 0.7273 - val_loss: 0.9229\n"
          ]
        }
      ]
    },
    {
      "cell_type": "code",
      "metadata": {
        "id": "XOxhOg3c_lXt",
        "outputId": "22b05b20-587a-4869-ac2c-853b2990a1aa",
        "colab": {
          "base_uri": "https://localhost:8080/",
          "height": 455
        }
      },
      "source": [
        "#@title Instructor Solution { display-mode: \"form\" }\n",
        "plot_acc(history)"
      ],
      "execution_count": 23,
      "outputs": [
        {
          "output_type": "display_data",
          "data": {
            "text/plain": [
              "<Figure size 640x480 with 1 Axes>"
            ],
            "image/png": "[encoded data removed]"
          },
          "metadata": {}
        }
      ]
    },
    {
      "cell_type": "code",
      "source": [
        "\n",
        "from sklearn.metrics import confusion_matrix\n",
        "from sklearn.metrics import accuracy_score\n",
        "\n",
        "def plot_confusion_matrix(y_true, y_pred):\n",
        "  cm = confusion_matrix(y_true, y_pred)\n",
        "  print(\"Plotting the Confusion Matrix\")\n",
        "\n",
        "  labels = [\"Negative\",\"Neutral\",\"Positive\"]\n",
        "  df_cm = pd.DataFrame(cm, index=labels, columns=labels)\n",
        "  fig = plt.figure(figsize=(7,6))\n",
        "  res = sns.heatmap(df_cm, annot=True, cmap='YlGnBu', fmt='g')\n",
        "\n",
        "  plt.yticks([0.5,1.5,2.5], labels, va='center')\n",
        "  plt.title('Confusion Matrix')\n",
        "  plt.ylabel('True Label')\n",
        "  plt.xlabel('Predicted Label')\n",
        "  plt.show()\n",
        "  plt.close()\n",
        "\n",
        "pred_probs = perceptron.predict(X_test_norm)\n",
        "y_pred = pred_probs.argmax(axis = -1)\n",
        "y_true = y_test_onehot.argmax(axis = -1)\n",
        "\n",
        "print(accuracy_score(y_true, y_pred))\n",
        "plot_confusion_matrix(y_true, y_pred)"
      ],
      "metadata": {
        "id": "attFyqOlsloU",
        "outputId": "b705cd2a-932a-42be-d53b-7a19658fa3ca",
        "colab": {
          "base_uri": "https://localhost:8080/",
          "height": 618
        }
      },
      "execution_count": 24,
      "outputs": [
        {
          "output_type": "stream",
          "name": "stdout",
          "text": [
            "\u001b[1m94/94\u001b[0m \u001b[32m━━━━━━━━━━━━━━━━━━━━\u001b[0m\u001b[37m\u001b[0m \u001b[1m0s\u001b[0m 3ms/step\n",
            "0.7273333333333334\n",
            "Plotting the Confusion Matrix\n"
          ]
        },
        {
          "output_type": "display_data",
          "data": {
            "text/plain": [
              "<Figure size 700x600 with 2 Axes>"
            ],
            "image/png": "[encoded data removed]"
          },
          "metadata": {}
        }
      ]
    },
    {
      "cell_type": "markdown",
      "source": [
        "# Notebook Summary\n",
        "\n",
        "The notebook's model overfit, we can fix it and improve it in model 2."
      ],
      "metadata": {
        "id": "ej0H1eJmYfKV"
      }
    }
  ]
}